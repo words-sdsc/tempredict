{
 "cells": [
  {
   "cell_type": "markdown",
   "metadata": {},
   "source": [
    "<header>\n",
    "    <h1>Section #1/6</h1>\n",
    "</header>"
   ]
  },
  {
   "cell_type": "markdown",
   "metadata": {},
   "source": [
    "<header>\n",
    "    <h1>Import Libraries </h1>\n",
    "</header>"
   ]
  },
  {
   "cell_type": "code",
   "execution_count": null,
   "metadata": {},
   "outputs": [],
   "source": [
    "import pandas as pd\n",
    "import psycopg2\n",
    "import sqlalchemy\n",
    "from sqlalchemy import create_engine\n",
    "import numpy as np\n",
    "import matplotlib.pyplot as plt\n",
    "from dbConnstring import *"
   ]
  },
  {
   "cell_type": "code",
   "execution_count": 2,
   "metadata": {},
   "outputs": [],
   "source": [
    "import dask\n",
    "import distributed\n",
    "import dask.array as da\n",
    "import os\n",
    "import time"
   ]
  },
  {
   "cell_type": "code",
   "execution_count": 3,
   "metadata": {},
   "outputs": [
    {
     "name": "stdout",
     "output_type": "stream",
     "text": [
      "3348\n"
     ]
    }
   ],
   "source": [
    "pid=os.getpid()\n",
    "print(pid)"
   ]
  },
  {
   "cell_type": "code",
   "execution_count": 4,
   "metadata": {},
   "outputs": [],
   "source": [
    "# Function to check path and edit:\n",
    "\n",
    "def update_path():\n",
    "    import os\n",
    "    import sys\n",
    "    #\n",
    "    # Check path\n",
    "    if not ( os.path.abspath('./bin') in  \"__\".join( sys.path ) ):\n",
    "        print(\"Path needs to be updated: Adding to Path\")\n",
    "        sys.path.insert(0, os.path.abspath('./bin'))\n",
    "    else:\n",
    "        print('Path already contains...:', os.path.abspath('./bin'))\n",
    "        #print('\\n', \"__\".join( sys.path ))"
   ]
  },
  {
   "cell_type": "code",
   "execution_count": 5,
   "metadata": {},
   "outputs": [
    {
     "name": "stdout",
     "output_type": "stream",
     "text": [
      "Path needs to be updated: Adding to Path\n"
     ]
    }
   ],
   "source": [
    "update_path()"
   ]
  },
  {
   "cell_type": "markdown",
   "metadata": {},
   "source": [
    "<header>\n",
    "    <h1>Define Database Connection Details </h1>\n",
    "</header>"
   ]
  },
  {
   "cell_type": "code",
   "execution_count": 6,
   "metadata": {},
   "outputs": [],
   "source": [
    "# TimescaleDB username, password, and database name\n",
    "TimescaleDB_USERNAME = '' ## YOUR TimescaleDB_USERNAME = 'abc'\n",
    "TimescaleDB_PASSWORD = '' ## YOUR TimescaleDB_PASSWORD = 'xyz'\n",
    "# Create the connection\n",
    "postgres_str =  conn_str(TimescaleDB_USERNAME, TimescaleDB_PASSWORD)\n",
    "cnx = create_engine(postgres_str)"
   ]
  },
  {
   "cell_type": "markdown",
   "metadata": {},
   "source": [
    "<header>\n",
    "    <h1>Section #2/6 </h1>\n",
    "</header>"
   ]
  },
  {
   "cell_type": "markdown",
   "metadata": {},
   "source": [
    "<header>\n",
    "    <h1>Create a Delayed Function without a DASK Cluster </h1>\n",
    "</header>"
   ]
  },
  {
   "cell_type": "code",
   "execution_count": 7,
   "metadata": {},
   "outputs": [
    {
     "name": "stdout",
     "output_type": "stream",
     "text": [
      "CPU times: user 185 ms, sys: 14.1 ms, total: 199 ms\n",
      "Wall time: 1.08 s\n"
     ]
    },
    {
     "data": {
      "text/html": [
       "<div><strong>Dask DataFrame Structure:</strong></div>\n",
       "<div>\n",
       "<style scoped>\n",
       "    .dataframe tbody tr th:only-of-type {\n",
       "        vertical-align: middle;\n",
       "    }\n",
       "\n",
       "    .dataframe tbody tr th {\n",
       "        vertical-align: top;\n",
       "    }\n",
       "\n",
       "    .dataframe thead th {\n",
       "        text-align: right;\n",
       "    }\n",
       "</style>\n",
       "<table border=\"1\" class=\"dataframe\">\n",
       "  <thead>\n",
       "    <tr style=\"text-align: right;\">\n",
       "      <th></th>\n",
       "      <th>hr</th>\n",
       "      <th>rmssd</th>\n",
       "      <th>pid</th>\n",
       "    </tr>\n",
       "    <tr>\n",
       "      <th>npartitions=8</th>\n",
       "      <th></th>\n",
       "      <th></th>\n",
       "      <th></th>\n",
       "    </tr>\n",
       "  </thead>\n",
       "  <tbody>\n",
       "    <tr>\n",
       "      <th>2019-12-31 16:00:13</th>\n",
       "      <td>float64</td>\n",
       "      <td>float64</td>\n",
       "      <td>object</td>\n",
       "    </tr>\n",
       "    <tr>\n",
       "      <th>2020-02-03 11:14:28</th>\n",
       "      <td>...</td>\n",
       "      <td>...</td>\n",
       "      <td>...</td>\n",
       "    </tr>\n",
       "    <tr>\n",
       "      <th>...</th>\n",
       "      <td>...</td>\n",
       "      <td>...</td>\n",
       "      <td>...</td>\n",
       "    </tr>\n",
       "    <tr>\n",
       "      <th>2020-08-24 06:39:58</th>\n",
       "      <td>...</td>\n",
       "      <td>...</td>\n",
       "      <td>...</td>\n",
       "    </tr>\n",
       "    <tr>\n",
       "      <th>2020-09-27 01:54:16</th>\n",
       "      <td>...</td>\n",
       "      <td>...</td>\n",
       "      <td>...</td>\n",
       "    </tr>\n",
       "  </tbody>\n",
       "</table>\n",
       "</div>\n",
       "<div>Dask Name: from-delayed, 16 tasks</div>"
      ],
      "text/plain": [
       "Dask DataFrame Structure:\n",
       "                          hr    rmssd     pid\n",
       "npartitions=8                                \n",
       "2019-12-31 16:00:13  float64  float64  object\n",
       "2020-02-03 11:14:28      ...      ...     ...\n",
       "...                      ...      ...     ...\n",
       "2020-08-24 06:39:58      ...      ...     ...\n",
       "2020-09-27 01:54:16      ...      ...     ...\n",
       "Dask Name: from-delayed, 16 tasks"
      ]
     },
     "execution_count": 7,
     "metadata": {},
     "output_type": "execute_result"
    }
   ],
   "source": [
    "%%time \n",
    "\n",
    "import dask.dataframe as dd\n",
    "\n",
    "df = dd.read_sql_table('hrv_500', \n",
    "                      postgres_str, \n",
    "                      npartitions=8, \n",
    "                      index_col='sensortime')  \n",
    "df # by default it is a delayed"
   ]
  },
  {
   "cell_type": "markdown",
   "metadata": {},
   "source": [
    "<header>\n",
    "    <h1>Verify it is just a Delayed Function without a DASK Cluster </h1>\n",
    "</header>"
   ]
  },
  {
   "cell_type": "code",
   "execution_count": 8,
   "metadata": {},
   "outputs": [
    {
     "name": "stdout",
     "output_type": "stream",
     "text": [
      "CPU times: user 25 ms, sys: 907 µs, total: 25.9 ms\n",
      "Wall time: 24.9 ms\n"
     ]
    },
    {
     "data": {
      "text/plain": [
       "Dask Series Structure:\n",
       "npartitions=1\n",
       "    float64\n",
       "        ...\n",
       "Name: hr, dtype: float64\n",
       "Dask Name: describe-numeric, 100 tasks"
      ]
     },
     "execution_count": 8,
     "metadata": {},
     "output_type": "execute_result"
    }
   ],
   "source": [
    "%%time\n",
    "df['hr'].describe() #.compute()"
   ]
  },
  {
   "cell_type": "markdown",
   "metadata": {},
   "source": [
    "<header>\n",
    "    <h1>Exectue the Delayed Function without a DASK Cluster </h1>\n",
    "</header>"
   ]
  },
  {
   "cell_type": "code",
   "execution_count": 9,
   "metadata": {},
   "outputs": [
    {
     "name": "stdout",
     "output_type": "stream",
     "text": [
      "CPU times: user 35.3 s, sys: 25.2 s, total: 1min\n",
      "Wall time: 37.4 s\n"
     ]
    },
    {
     "data": {
      "text/html": [
       "<div>\n",
       "<style scoped>\n",
       "    .dataframe tbody tr th:only-of-type {\n",
       "        vertical-align: middle;\n",
       "    }\n",
       "\n",
       "    .dataframe tbody tr th {\n",
       "        vertical-align: top;\n",
       "    }\n",
       "\n",
       "    .dataframe thead th {\n",
       "        text-align: right;\n",
       "    }\n",
       "</style>\n",
       "<table border=\"1\" class=\"dataframe\">\n",
       "  <thead>\n",
       "    <tr style=\"text-align: right;\">\n",
       "      <th></th>\n",
       "      <th>hr</th>\n",
       "      <th>rmssd</th>\n",
       "      <th>pid</th>\n",
       "    </tr>\n",
       "    <tr>\n",
       "      <th>sensortime</th>\n",
       "      <th></th>\n",
       "      <th></th>\n",
       "      <th></th>\n",
       "    </tr>\n",
       "  </thead>\n",
       "  <tbody>\n",
       "    <tr>\n",
       "      <th>2019-12-31 18:40:32</th>\n",
       "      <td>84.0</td>\n",
       "      <td>21.0</td>\n",
       "      <td>amX0V8J0Y0FVr9nOXLnyvftOMqmPdfys4-BFxceekvnsx3...</td>\n",
       "    </tr>\n",
       "    <tr>\n",
       "      <th>2019-12-31 16:51:32</th>\n",
       "      <td>82.0</td>\n",
       "      <td>19.0</td>\n",
       "      <td>amX0V8J0Y0FVr9nOXLnyvftOMqmPdfys4-BFxceekvnsx3...</td>\n",
       "    </tr>\n",
       "    <tr>\n",
       "      <th>2019-12-31 16:56:32</th>\n",
       "      <td>85.0</td>\n",
       "      <td>22.0</td>\n",
       "      <td>amX0V8J0Y0FVr9nOXLnyvftOMqmPdfys4-BFxceekvnsx3...</td>\n",
       "    </tr>\n",
       "    <tr>\n",
       "      <th>2019-12-31 18:40:32</th>\n",
       "      <td>84.0</td>\n",
       "      <td>21.0</td>\n",
       "      <td>amX0V8J0Y0FVr9nOXLnyvftOMqmPdfys4-BFxceekvnsx3...</td>\n",
       "    </tr>\n",
       "    <tr>\n",
       "      <th>2019-12-31 18:45:32</th>\n",
       "      <td>84.0</td>\n",
       "      <td>30.0</td>\n",
       "      <td>amX0V8J0Y0FVr9nOXLnyvftOMqmPdfys4-BFxceekvnsx3...</td>\n",
       "    </tr>\n",
       "    <tr>\n",
       "      <th>...</th>\n",
       "      <td>...</td>\n",
       "      <td>...</td>\n",
       "      <td>...</td>\n",
       "    </tr>\n",
       "    <tr>\n",
       "      <th>2020-08-27 17:11:17</th>\n",
       "      <td>69.0</td>\n",
       "      <td>18.0</td>\n",
       "      <td>W2aIXmOEC-T_GTPmqR2tjJ0NAxEkiNpXu-OQiirELQUuoN...</td>\n",
       "    </tr>\n",
       "    <tr>\n",
       "      <th>2020-08-27 17:16:17</th>\n",
       "      <td>69.0</td>\n",
       "      <td>18.0</td>\n",
       "      <td>W2aIXmOEC-T_GTPmqR2tjJ0NAxEkiNpXu-OQiirELQUuoN...</td>\n",
       "    </tr>\n",
       "    <tr>\n",
       "      <th>2020-08-27 17:21:17</th>\n",
       "      <td>70.0</td>\n",
       "      <td>18.0</td>\n",
       "      <td>W2aIXmOEC-T_GTPmqR2tjJ0NAxEkiNpXu-OQiirELQUuoN...</td>\n",
       "    </tr>\n",
       "    <tr>\n",
       "      <th>2020-08-27 17:26:17</th>\n",
       "      <td>68.0</td>\n",
       "      <td>16.0</td>\n",
       "      <td>W2aIXmOEC-T_GTPmqR2tjJ0NAxEkiNpXu-OQiirELQUuoN...</td>\n",
       "    </tr>\n",
       "    <tr>\n",
       "      <th>2020-08-27 17:31:17</th>\n",
       "      <td>71.0</td>\n",
       "      <td>14.0</td>\n",
       "      <td>W2aIXmOEC-T_GTPmqR2tjJ0NAxEkiNpXu-OQiirELQUuoN...</td>\n",
       "    </tr>\n",
       "  </tbody>\n",
       "</table>\n",
       "<p>6920455 rows × 3 columns</p>\n",
       "</div>"
      ],
      "text/plain": [
       "                       hr  rmssd  \\\n",
       "sensortime                         \n",
       "2019-12-31 18:40:32  84.0   21.0   \n",
       "2019-12-31 16:51:32  82.0   19.0   \n",
       "2019-12-31 16:56:32  85.0   22.0   \n",
       "2019-12-31 18:40:32  84.0   21.0   \n",
       "2019-12-31 18:45:32  84.0   30.0   \n",
       "...                   ...    ...   \n",
       "2020-08-27 17:11:17  69.0   18.0   \n",
       "2020-08-27 17:16:17  69.0   18.0   \n",
       "2020-08-27 17:21:17  70.0   18.0   \n",
       "2020-08-27 17:26:17  68.0   16.0   \n",
       "2020-08-27 17:31:17  71.0   14.0   \n",
       "\n",
       "                                                                   pid  \n",
       "sensortime                                                              \n",
       "2019-12-31 18:40:32  amX0V8J0Y0FVr9nOXLnyvftOMqmPdfys4-BFxceekvnsx3...  \n",
       "2019-12-31 16:51:32  amX0V8J0Y0FVr9nOXLnyvftOMqmPdfys4-BFxceekvnsx3...  \n",
       "2019-12-31 16:56:32  amX0V8J0Y0FVr9nOXLnyvftOMqmPdfys4-BFxceekvnsx3...  \n",
       "2019-12-31 18:40:32  amX0V8J0Y0FVr9nOXLnyvftOMqmPdfys4-BFxceekvnsx3...  \n",
       "2019-12-31 18:45:32  amX0V8J0Y0FVr9nOXLnyvftOMqmPdfys4-BFxceekvnsx3...  \n",
       "...                                                                ...  \n",
       "2020-08-27 17:11:17  W2aIXmOEC-T_GTPmqR2tjJ0NAxEkiNpXu-OQiirELQUuoN...  \n",
       "2020-08-27 17:16:17  W2aIXmOEC-T_GTPmqR2tjJ0NAxEkiNpXu-OQiirELQUuoN...  \n",
       "2020-08-27 17:21:17  W2aIXmOEC-T_GTPmqR2tjJ0NAxEkiNpXu-OQiirELQUuoN...  \n",
       "2020-08-27 17:26:17  W2aIXmOEC-T_GTPmqR2tjJ0NAxEkiNpXu-OQiirELQUuoN...  \n",
       "2020-08-27 17:31:17  W2aIXmOEC-T_GTPmqR2tjJ0NAxEkiNpXu-OQiirELQUuoN...  \n",
       "\n",
       "[6920455 rows x 3 columns]"
      ]
     },
     "execution_count": 9,
     "metadata": {},
     "output_type": "execute_result"
    }
   ],
   "source": [
    "%%time\n",
    "df.compute()"
   ]
  },
  {
   "cell_type": "code",
   "execution_count": 10,
   "metadata": {},
   "outputs": [
    {
     "name": "stdout",
     "output_type": "stream",
     "text": [
      "CPU times: user 35.4 s, sys: 19.3 s, total: 54.6 s\n",
      "Wall time: 36.4 s\n"
     ]
    },
    {
     "data": {
      "text/plain": [
       "count    6.920455e+06\n",
       "mean     6.223385e+01\n",
       "std      1.091681e+01\n",
       "min      3.200000e+01\n",
       "25%      5.500000e+01\n",
       "50%      6.200000e+01\n",
       "75%      7.000000e+01\n",
       "max      1.500000e+02\n",
       "Name: hr, dtype: float64"
      ]
     },
     "execution_count": 10,
     "metadata": {},
     "output_type": "execute_result"
    }
   ],
   "source": [
    "%%time\n",
    "df['hr'].describe().compute()"
   ]
  },
  {
   "cell_type": "code",
   "execution_count": 11,
   "metadata": {},
   "outputs": [
    {
     "data": {
      "text/html": [
       "<div>\n",
       "<style scoped>\n",
       "    .dataframe tbody tr th:only-of-type {\n",
       "        vertical-align: middle;\n",
       "    }\n",
       "\n",
       "    .dataframe tbody tr th {\n",
       "        vertical-align: top;\n",
       "    }\n",
       "\n",
       "    .dataframe thead th {\n",
       "        text-align: right;\n",
       "    }\n",
       "</style>\n",
       "<table border=\"1\" class=\"dataframe\">\n",
       "  <thead>\n",
       "    <tr style=\"text-align: right;\">\n",
       "      <th></th>\n",
       "      <th>hr</th>\n",
       "      <th>rmssd</th>\n",
       "      <th>pid</th>\n",
       "    </tr>\n",
       "    <tr>\n",
       "      <th>sensortime</th>\n",
       "      <th></th>\n",
       "      <th></th>\n",
       "      <th></th>\n",
       "    </tr>\n",
       "  </thead>\n",
       "  <tbody>\n",
       "    <tr>\n",
       "      <th>2019-12-31 18:40:32</th>\n",
       "      <td>84.0</td>\n",
       "      <td>21.0</td>\n",
       "      <td>amX0V8J0Y0FVr9nOXLnyvftOMqmPdfys4-BFxceekvnsx3...</td>\n",
       "    </tr>\n",
       "    <tr>\n",
       "      <th>2019-12-31 16:51:32</th>\n",
       "      <td>82.0</td>\n",
       "      <td>19.0</td>\n",
       "      <td>amX0V8J0Y0FVr9nOXLnyvftOMqmPdfys4-BFxceekvnsx3...</td>\n",
       "    </tr>\n",
       "    <tr>\n",
       "      <th>2019-12-31 16:56:32</th>\n",
       "      <td>85.0</td>\n",
       "      <td>22.0</td>\n",
       "      <td>amX0V8J0Y0FVr9nOXLnyvftOMqmPdfys4-BFxceekvnsx3...</td>\n",
       "    </tr>\n",
       "    <tr>\n",
       "      <th>2019-12-31 18:40:32</th>\n",
       "      <td>84.0</td>\n",
       "      <td>21.0</td>\n",
       "      <td>amX0V8J0Y0FVr9nOXLnyvftOMqmPdfys4-BFxceekvnsx3...</td>\n",
       "    </tr>\n",
       "    <tr>\n",
       "      <th>2019-12-31 18:45:32</th>\n",
       "      <td>84.0</td>\n",
       "      <td>30.0</td>\n",
       "      <td>amX0V8J0Y0FVr9nOXLnyvftOMqmPdfys4-BFxceekvnsx3...</td>\n",
       "    </tr>\n",
       "  </tbody>\n",
       "</table>\n",
       "</div>"
      ],
      "text/plain": [
       "                       hr  rmssd  \\\n",
       "sensortime                         \n",
       "2019-12-31 18:40:32  84.0   21.0   \n",
       "2019-12-31 16:51:32  82.0   19.0   \n",
       "2019-12-31 16:56:32  85.0   22.0   \n",
       "2019-12-31 18:40:32  84.0   21.0   \n",
       "2019-12-31 18:45:32  84.0   30.0   \n",
       "\n",
       "                                                                   pid  \n",
       "sensortime                                                              \n",
       "2019-12-31 18:40:32  amX0V8J0Y0FVr9nOXLnyvftOMqmPdfys4-BFxceekvnsx3...  \n",
       "2019-12-31 16:51:32  amX0V8J0Y0FVr9nOXLnyvftOMqmPdfys4-BFxceekvnsx3...  \n",
       "2019-12-31 16:56:32  amX0V8J0Y0FVr9nOXLnyvftOMqmPdfys4-BFxceekvnsx3...  \n",
       "2019-12-31 18:40:32  amX0V8J0Y0FVr9nOXLnyvftOMqmPdfys4-BFxceekvnsx3...  \n",
       "2019-12-31 18:45:32  amX0V8J0Y0FVr9nOXLnyvftOMqmPdfys4-BFxceekvnsx3...  "
      ]
     },
     "execution_count": 11,
     "metadata": {},
     "output_type": "execute_result"
    }
   ],
   "source": [
    "df.head()"
   ]
  },
  {
   "cell_type": "markdown",
   "metadata": {},
   "source": [
    "<header>\n",
    "    <h1>Section #3/6 </h1>\n",
    "</header>"
   ]
  },
  {
   "cell_type": "markdown",
   "metadata": {},
   "source": [
    "<header>\n",
    "    <h1>Create a DASK Cluster</h1>\n",
    "</header>"
   ]
  },
  {
   "cell_type": "code",
   "execution_count": 12,
   "metadata": {},
   "outputs": [],
   "source": [
    "from dask import dataframe as dask_cluster_dd"
   ]
  },
  {
   "cell_type": "code",
   "execution_count": 13,
   "metadata": {},
   "outputs": [],
   "source": [
    "N_WORKERS = 8"
   ]
  },
  {
   "cell_type": "code",
   "execution_count": 14,
   "metadata": {},
   "outputs": [],
   "source": [
    "from dask.distributed import Client, LocalCluster\n",
    "\n",
    "if __name__ == '__main__':\n",
    "    # Create a Dask Cluster\n",
    "    cluster = LocalCluster( n_workers=N_WORKERS, threads_per_worker=1, processes=True)\n",
    "    client  = Client(cluster)"
   ]
  },
  {
   "cell_type": "code",
   "execution_count": 15,
   "metadata": {},
   "outputs": [
    {
     "data": {
      "text/html": [
       "<table style=\"border: 2px solid white;\">\n",
       "<tr>\n",
       "<td style=\"vertical-align: top; border: 0px solid white\">\n",
       "<h3 style=\"text-align: left;\">Client</h3>\n",
       "<ul style=\"text-align: left; list-style: none; margin: 0; padding: 0;\">\n",
       "  <li><b>Scheduler: </b>tcp://127.0.0.1:40939</li>\n",
       "  <li><b>Dashboard: </b><a href='http://127.0.0.1:8787/status' target='_blank'>http://127.0.0.1:8787/status</a></li>\n",
       "</ul>\n",
       "</td>\n",
       "<td style=\"vertical-align: top; border: 0px solid white\">\n",
       "<h3 style=\"text-align: left;\">Cluster</h3>\n",
       "<ul style=\"text-align: left; list-style:none; margin: 0; padding: 0;\">\n",
       "  <li><b>Workers: </b>8</li>\n",
       "  <li><b>Cores: </b>8</li>\n",
       "  <li><b>Memory: </b>135.06 GB</li>\n",
       "</ul>\n",
       "</td>\n",
       "</tr>\n",
       "</table>"
      ],
      "text/plain": [
       "<Client: 'tcp://127.0.0.1:40939' processes=8 threads=8, memory=135.06 GB>"
      ]
     },
     "execution_count": 15,
     "metadata": {},
     "output_type": "execute_result"
    }
   ],
   "source": [
    "client"
   ]
  },
  {
   "cell_type": "markdown",
   "metadata": {},
   "source": [
    "<header>\n",
    "    <h1>Create a 'delayed' function with DASK Cluster</h1>\n",
    "</header>"
   ]
  },
  {
   "cell_type": "code",
   "execution_count": 16,
   "metadata": {},
   "outputs": [
    {
     "data": {
      "text/html": [
       "<div><strong>Dask DataFrame Structure:</strong></div>\n",
       "<div>\n",
       "<style scoped>\n",
       "    .dataframe tbody tr th:only-of-type {\n",
       "        vertical-align: middle;\n",
       "    }\n",
       "\n",
       "    .dataframe tbody tr th {\n",
       "        vertical-align: top;\n",
       "    }\n",
       "\n",
       "    .dataframe thead th {\n",
       "        text-align: right;\n",
       "    }\n",
       "</style>\n",
       "<table border=\"1\" class=\"dataframe\">\n",
       "  <thead>\n",
       "    <tr style=\"text-align: right;\">\n",
       "      <th></th>\n",
       "      <th>hr</th>\n",
       "      <th>rmssd</th>\n",
       "      <th>pid</th>\n",
       "    </tr>\n",
       "    <tr>\n",
       "      <th>npartitions=8</th>\n",
       "      <th></th>\n",
       "      <th></th>\n",
       "      <th></th>\n",
       "    </tr>\n",
       "  </thead>\n",
       "  <tbody>\n",
       "    <tr>\n",
       "      <th>2019-12-31 16:00:13</th>\n",
       "      <td>float64</td>\n",
       "      <td>float64</td>\n",
       "      <td>object</td>\n",
       "    </tr>\n",
       "    <tr>\n",
       "      <th>2020-02-03 11:14:28</th>\n",
       "      <td>...</td>\n",
       "      <td>...</td>\n",
       "      <td>...</td>\n",
       "    </tr>\n",
       "    <tr>\n",
       "      <th>...</th>\n",
       "      <td>...</td>\n",
       "      <td>...</td>\n",
       "      <td>...</td>\n",
       "    </tr>\n",
       "    <tr>\n",
       "      <th>2020-08-24 06:39:58</th>\n",
       "      <td>...</td>\n",
       "      <td>...</td>\n",
       "      <td>...</td>\n",
       "    </tr>\n",
       "    <tr>\n",
       "      <th>2020-09-27 01:54:16</th>\n",
       "      <td>...</td>\n",
       "      <td>...</td>\n",
       "      <td>...</td>\n",
       "    </tr>\n",
       "  </tbody>\n",
       "</table>\n",
       "</div>\n",
       "<div>Dask Name: from-delayed, 16 tasks</div>"
      ],
      "text/plain": [
       "Dask DataFrame Structure:\n",
       "                          hr    rmssd     pid\n",
       "npartitions=8                                \n",
       "2019-12-31 16:00:13  float64  float64  object\n",
       "2020-02-03 11:14:28      ...      ...     ...\n",
       "...                      ...      ...     ...\n",
       "2020-08-24 06:39:58      ...      ...     ...\n",
       "2020-09-27 01:54:16      ...      ...     ...\n",
       "Dask Name: from-delayed, 16 tasks"
      ]
     },
     "execution_count": 16,
     "metadata": {},
     "output_type": "execute_result"
    }
   ],
   "source": [
    "df = dask_cluster_dd.read_sql_table('hrv_500', \n",
    "                              postgres_str, \n",
    "                              npartitions=8, \n",
    "                              index_col='sensortime')  \n",
    "df"
   ]
  },
  {
   "cell_type": "markdown",
   "metadata": {},
   "source": [
    "<header>\n",
    "    <h1>Exectue the 'delayed' function with DASK cluster</h1>\n",
    "</header>"
   ]
  },
  {
   "cell_type": "code",
   "execution_count": 17,
   "metadata": {},
   "outputs": [
    {
     "name": "stdout",
     "output_type": "stream",
     "text": [
      "CPU times: user 1.07 s, sys: 157 ms, total: 1.23 s\n",
      "Wall time: 13.7 s\n"
     ]
    },
    {
     "data": {
      "text/plain": [
       "count    6.920455e+06\n",
       "mean     6.223385e+01\n",
       "std      1.091681e+01\n",
       "min      3.200000e+01\n",
       "25%      5.500000e+01\n",
       "50%      6.200000e+01\n",
       "75%      7.000000e+01\n",
       "max      1.500000e+02\n",
       "Name: hr, dtype: float64"
      ]
     },
     "execution_count": 17,
     "metadata": {},
     "output_type": "execute_result"
    }
   ],
   "source": [
    "%%time\n",
    "df['hr'].describe().compute() # time information is wrt 8cores"
   ]
  },
  {
   "cell_type": "code",
   "execution_count": 18,
   "metadata": {},
   "outputs": [
    {
     "name": "stdout",
     "output_type": "stream",
     "text": [
      "CPU times: user 3.49 s, sys: 2.62 s, total: 6.1 s\n",
      "Wall time: 18 s\n"
     ]
    },
    {
     "data": {
      "text/html": [
       "<div>\n",
       "<style scoped>\n",
       "    .dataframe tbody tr th:only-of-type {\n",
       "        vertical-align: middle;\n",
       "    }\n",
       "\n",
       "    .dataframe tbody tr th {\n",
       "        vertical-align: top;\n",
       "    }\n",
       "\n",
       "    .dataframe thead th {\n",
       "        text-align: right;\n",
       "    }\n",
       "</style>\n",
       "<table border=\"1\" class=\"dataframe\">\n",
       "  <thead>\n",
       "    <tr style=\"text-align: right;\">\n",
       "      <th></th>\n",
       "      <th>hr</th>\n",
       "      <th>rmssd</th>\n",
       "      <th>pid</th>\n",
       "    </tr>\n",
       "    <tr>\n",
       "      <th>sensortime</th>\n",
       "      <th></th>\n",
       "      <th></th>\n",
       "      <th></th>\n",
       "    </tr>\n",
       "  </thead>\n",
       "  <tbody>\n",
       "    <tr>\n",
       "      <th>2019-12-31 18:40:32</th>\n",
       "      <td>84.0</td>\n",
       "      <td>21.0</td>\n",
       "      <td>amX0V8J0Y0FVr9nOXLnyvftOMqmPdfys4-BFxceekvnsx3...</td>\n",
       "    </tr>\n",
       "    <tr>\n",
       "      <th>2019-12-31 16:51:32</th>\n",
       "      <td>82.0</td>\n",
       "      <td>19.0</td>\n",
       "      <td>amX0V8J0Y0FVr9nOXLnyvftOMqmPdfys4-BFxceekvnsx3...</td>\n",
       "    </tr>\n",
       "    <tr>\n",
       "      <th>2019-12-31 16:56:32</th>\n",
       "      <td>85.0</td>\n",
       "      <td>22.0</td>\n",
       "      <td>amX0V8J0Y0FVr9nOXLnyvftOMqmPdfys4-BFxceekvnsx3...</td>\n",
       "    </tr>\n",
       "    <tr>\n",
       "      <th>2019-12-31 18:40:32</th>\n",
       "      <td>84.0</td>\n",
       "      <td>21.0</td>\n",
       "      <td>amX0V8J0Y0FVr9nOXLnyvftOMqmPdfys4-BFxceekvnsx3...</td>\n",
       "    </tr>\n",
       "    <tr>\n",
       "      <th>2019-12-31 18:45:32</th>\n",
       "      <td>84.0</td>\n",
       "      <td>30.0</td>\n",
       "      <td>amX0V8J0Y0FVr9nOXLnyvftOMqmPdfys4-BFxceekvnsx3...</td>\n",
       "    </tr>\n",
       "    <tr>\n",
       "      <th>...</th>\n",
       "      <td>...</td>\n",
       "      <td>...</td>\n",
       "      <td>...</td>\n",
       "    </tr>\n",
       "    <tr>\n",
       "      <th>2020-08-24 20:21:47</th>\n",
       "      <td>47.0</td>\n",
       "      <td>61.0</td>\n",
       "      <td>W2aIXmOEC-T_GTPmqR2tjJ0NAxEkiNpXu-OQiirELQUuoN...</td>\n",
       "    </tr>\n",
       "    <tr>\n",
       "      <th>2020-08-24 20:26:47</th>\n",
       "      <td>48.0</td>\n",
       "      <td>59.0</td>\n",
       "      <td>W2aIXmOEC-T_GTPmqR2tjJ0NAxEkiNpXu-OQiirELQUuoN...</td>\n",
       "    </tr>\n",
       "    <tr>\n",
       "      <th>2020-08-24 20:31:47</th>\n",
       "      <td>48.0</td>\n",
       "      <td>40.0</td>\n",
       "      <td>W2aIXmOEC-T_GTPmqR2tjJ0NAxEkiNpXu-OQiirELQUuoN...</td>\n",
       "    </tr>\n",
       "    <tr>\n",
       "      <th>2020-08-24 20:36:47</th>\n",
       "      <td>47.0</td>\n",
       "      <td>39.0</td>\n",
       "      <td>W2aIXmOEC-T_GTPmqR2tjJ0NAxEkiNpXu-OQiirELQUuoN...</td>\n",
       "    </tr>\n",
       "    <tr>\n",
       "      <th>2020-08-24 20:41:47</th>\n",
       "      <td>47.0</td>\n",
       "      <td>42.0</td>\n",
       "      <td>W2aIXmOEC-T_GTPmqR2tjJ0NAxEkiNpXu-OQiirELQUuoN...</td>\n",
       "    </tr>\n",
       "  </tbody>\n",
       "</table>\n",
       "<p>6920455 rows × 3 columns</p>\n",
       "</div>"
      ],
      "text/plain": [
       "                       hr  rmssd  \\\n",
       "sensortime                         \n",
       "2019-12-31 18:40:32  84.0   21.0   \n",
       "2019-12-31 16:51:32  82.0   19.0   \n",
       "2019-12-31 16:56:32  85.0   22.0   \n",
       "2019-12-31 18:40:32  84.0   21.0   \n",
       "2019-12-31 18:45:32  84.0   30.0   \n",
       "...                   ...    ...   \n",
       "2020-08-24 20:21:47  47.0   61.0   \n",
       "2020-08-24 20:26:47  48.0   59.0   \n",
       "2020-08-24 20:31:47  48.0   40.0   \n",
       "2020-08-24 20:36:47  47.0   39.0   \n",
       "2020-08-24 20:41:47  47.0   42.0   \n",
       "\n",
       "                                                                   pid  \n",
       "sensortime                                                              \n",
       "2019-12-31 18:40:32  amX0V8J0Y0FVr9nOXLnyvftOMqmPdfys4-BFxceekvnsx3...  \n",
       "2019-12-31 16:51:32  amX0V8J0Y0FVr9nOXLnyvftOMqmPdfys4-BFxceekvnsx3...  \n",
       "2019-12-31 16:56:32  amX0V8J0Y0FVr9nOXLnyvftOMqmPdfys4-BFxceekvnsx3...  \n",
       "2019-12-31 18:40:32  amX0V8J0Y0FVr9nOXLnyvftOMqmPdfys4-BFxceekvnsx3...  \n",
       "2019-12-31 18:45:32  amX0V8J0Y0FVr9nOXLnyvftOMqmPdfys4-BFxceekvnsx3...  \n",
       "...                                                                ...  \n",
       "2020-08-24 20:21:47  W2aIXmOEC-T_GTPmqR2tjJ0NAxEkiNpXu-OQiirELQUuoN...  \n",
       "2020-08-24 20:26:47  W2aIXmOEC-T_GTPmqR2tjJ0NAxEkiNpXu-OQiirELQUuoN...  \n",
       "2020-08-24 20:31:47  W2aIXmOEC-T_GTPmqR2tjJ0NAxEkiNpXu-OQiirELQUuoN...  \n",
       "2020-08-24 20:36:47  W2aIXmOEC-T_GTPmqR2tjJ0NAxEkiNpXu-OQiirELQUuoN...  \n",
       "2020-08-24 20:41:47  W2aIXmOEC-T_GTPmqR2tjJ0NAxEkiNpXu-OQiirELQUuoN...  \n",
       "\n",
       "[6920455 rows x 3 columns]"
      ]
     },
     "execution_count": 18,
     "metadata": {},
     "output_type": "execute_result"
    }
   ],
   "source": [
    "%%time\n",
    "df.compute() # time information is wrt 8cores, 32GB"
   ]
  },
  {
   "cell_type": "markdown",
   "metadata": {},
   "source": [
    "<header>\n",
    "    <h1>Section #4/6 </h1>\n",
    "</header>"
   ]
  },
  {
   "cell_type": "markdown",
   "metadata": {},
   "source": [
    "<header>\n",
    "    <h1>[4] Get Sktech HRV table</h1>\n",
    "</header>"
   ]
  },
  {
   "cell_type": "code",
   "execution_count": 19,
   "metadata": {},
   "outputs": [
    {
     "data": {
      "text/html": [
       "<div>\n",
       "<style scoped>\n",
       "    .dataframe tbody tr th:only-of-type {\n",
       "        vertical-align: middle;\n",
       "    }\n",
       "\n",
       "    .dataframe tbody tr th {\n",
       "        vertical-align: top;\n",
       "    }\n",
       "\n",
       "    .dataframe thead th {\n",
       "        text-align: right;\n",
       "    }\n",
       "</style>\n",
       "<table border=\"1\" class=\"dataframe\">\n",
       "  <thead>\n",
       "    <tr style=\"text-align: right;\">\n",
       "      <th></th>\n",
       "      <th>per20</th>\n",
       "      <th>per40</th>\n",
       "      <th>per60</th>\n",
       "      <th>per80</th>\n",
       "      <th>variance</th>\n",
       "      <th>skewness</th>\n",
       "      <th>kurtosis</th>\n",
       "      <th>time</th>\n",
       "      <th>pid</th>\n",
       "      <th>granularity</th>\n",
       "    </tr>\n",
       "  </thead>\n",
       "  <tbody>\n",
       "    <tr>\n",
       "      <th>0</th>\n",
       "      <td>32.0</td>\n",
       "      <td>32.0</td>\n",
       "      <td>32.0</td>\n",
       "      <td>32.0</td>\n",
       "      <td>0.0</td>\n",
       "      <td>None</td>\n",
       "      <td>None</td>\n",
       "      <td>2020-03-21 06:00:00</td>\n",
       "      <td>cf3lPK4nWnSZERpyQGAZ2z9UViyrYBw8WsDolSFHvD8BYG...</td>\n",
       "      <td>hourly</td>\n",
       "    </tr>\n",
       "    <tr>\n",
       "      <th>1</th>\n",
       "      <td>32.0</td>\n",
       "      <td>32.0</td>\n",
       "      <td>32.0</td>\n",
       "      <td>32.0</td>\n",
       "      <td>0.0</td>\n",
       "      <td>None</td>\n",
       "      <td>None</td>\n",
       "      <td>2020-04-20 11:00:00</td>\n",
       "      <td>lZ3zOHrJHwMUTptP6aIlqRQMrjAssccgqxmkQeavagNCxk...</td>\n",
       "      <td>hourly</td>\n",
       "    </tr>\n",
       "    <tr>\n",
       "      <th>2</th>\n",
       "      <td>32.0</td>\n",
       "      <td>32.0</td>\n",
       "      <td>32.0</td>\n",
       "      <td>32.0</td>\n",
       "      <td>0.0</td>\n",
       "      <td>None</td>\n",
       "      <td>None</td>\n",
       "      <td>2020-04-24 06:00:00</td>\n",
       "      <td>lZ3zOHrJHwMUTptP6aIlqRQMrjAssccgqxmkQeavagNCxk...</td>\n",
       "      <td>hourly</td>\n",
       "    </tr>\n",
       "    <tr>\n",
       "      <th>3</th>\n",
       "      <td>32.0</td>\n",
       "      <td>32.0</td>\n",
       "      <td>32.0</td>\n",
       "      <td>32.0</td>\n",
       "      <td>0.0</td>\n",
       "      <td>None</td>\n",
       "      <td>None</td>\n",
       "      <td>2020-04-24 12:00:00</td>\n",
       "      <td>lZ3zOHrJHwMUTptP6aIlqRQMrjAssccgqxmkQeavagNCxk...</td>\n",
       "      <td>hourly</td>\n",
       "    </tr>\n",
       "    <tr>\n",
       "      <th>4</th>\n",
       "      <td>32.0</td>\n",
       "      <td>32.0</td>\n",
       "      <td>32.0</td>\n",
       "      <td>32.0</td>\n",
       "      <td>0.0</td>\n",
       "      <td>None</td>\n",
       "      <td>None</td>\n",
       "      <td>2020-04-30 12:00:00</td>\n",
       "      <td>lZ3zOHrJHwMUTptP6aIlqRQMrjAssccgqxmkQeavagNCxk...</td>\n",
       "      <td>hourly</td>\n",
       "    </tr>\n",
       "    <tr>\n",
       "      <th>5</th>\n",
       "      <td>32.0</td>\n",
       "      <td>32.0</td>\n",
       "      <td>32.0</td>\n",
       "      <td>32.0</td>\n",
       "      <td>0.0</td>\n",
       "      <td>None</td>\n",
       "      <td>None</td>\n",
       "      <td>2020-04-30 13:00:00</td>\n",
       "      <td>lZ3zOHrJHwMUTptP6aIlqRQMrjAssccgqxmkQeavagNCxk...</td>\n",
       "      <td>hourly</td>\n",
       "    </tr>\n",
       "    <tr>\n",
       "      <th>6</th>\n",
       "      <td>32.0</td>\n",
       "      <td>32.0</td>\n",
       "      <td>32.0</td>\n",
       "      <td>32.0</td>\n",
       "      <td>0.0</td>\n",
       "      <td>None</td>\n",
       "      <td>None</td>\n",
       "      <td>2020-05-21 05:00:00</td>\n",
       "      <td>lZ3zOHrJHwMUTptP6aIlqRQMrjAssccgqxmkQeavagNCxk...</td>\n",
       "      <td>hourly</td>\n",
       "    </tr>\n",
       "    <tr>\n",
       "      <th>7</th>\n",
       "      <td>32.0</td>\n",
       "      <td>32.0</td>\n",
       "      <td>32.0</td>\n",
       "      <td>32.0</td>\n",
       "      <td>0.0</td>\n",
       "      <td>None</td>\n",
       "      <td>None</td>\n",
       "      <td>2020-05-21 06:00:00</td>\n",
       "      <td>lZ3zOHrJHwMUTptP6aIlqRQMrjAssccgqxmkQeavagNCxk...</td>\n",
       "      <td>hourly</td>\n",
       "    </tr>\n",
       "    <tr>\n",
       "      <th>8</th>\n",
       "      <td>32.0</td>\n",
       "      <td>32.0</td>\n",
       "      <td>32.0</td>\n",
       "      <td>32.0</td>\n",
       "      <td>0.0</td>\n",
       "      <td>None</td>\n",
       "      <td>None</td>\n",
       "      <td>2020-05-21 07:00:00</td>\n",
       "      <td>lZ3zOHrJHwMUTptP6aIlqRQMrjAssccgqxmkQeavagNCxk...</td>\n",
       "      <td>hourly</td>\n",
       "    </tr>\n",
       "    <tr>\n",
       "      <th>9</th>\n",
       "      <td>32.0</td>\n",
       "      <td>32.0</td>\n",
       "      <td>32.0</td>\n",
       "      <td>32.0</td>\n",
       "      <td>0.0</td>\n",
       "      <td>None</td>\n",
       "      <td>None</td>\n",
       "      <td>2020-05-22 06:00:00</td>\n",
       "      <td>lZ3zOHrJHwMUTptP6aIlqRQMrjAssccgqxmkQeavagNCxk...</td>\n",
       "      <td>hourly</td>\n",
       "    </tr>\n",
       "  </tbody>\n",
       "</table>\n",
       "</div>"
      ],
      "text/plain": [
       "   per20  per40  per60  per80  variance skewness kurtosis                time  \\\n",
       "0   32.0   32.0   32.0   32.0       0.0     None     None 2020-03-21 06:00:00   \n",
       "1   32.0   32.0   32.0   32.0       0.0     None     None 2020-04-20 11:00:00   \n",
       "2   32.0   32.0   32.0   32.0       0.0     None     None 2020-04-24 06:00:00   \n",
       "3   32.0   32.0   32.0   32.0       0.0     None     None 2020-04-24 12:00:00   \n",
       "4   32.0   32.0   32.0   32.0       0.0     None     None 2020-04-30 12:00:00   \n",
       "5   32.0   32.0   32.0   32.0       0.0     None     None 2020-04-30 13:00:00   \n",
       "6   32.0   32.0   32.0   32.0       0.0     None     None 2020-05-21 05:00:00   \n",
       "7   32.0   32.0   32.0   32.0       0.0     None     None 2020-05-21 06:00:00   \n",
       "8   32.0   32.0   32.0   32.0       0.0     None     None 2020-05-21 07:00:00   \n",
       "9   32.0   32.0   32.0   32.0       0.0     None     None 2020-05-22 06:00:00   \n",
       "\n",
       "                                                 pid granularity  \n",
       "0  cf3lPK4nWnSZERpyQGAZ2z9UViyrYBw8WsDolSFHvD8BYG...      hourly  \n",
       "1  lZ3zOHrJHwMUTptP6aIlqRQMrjAssccgqxmkQeavagNCxk...      hourly  \n",
       "2  lZ3zOHrJHwMUTptP6aIlqRQMrjAssccgqxmkQeavagNCxk...      hourly  \n",
       "3  lZ3zOHrJHwMUTptP6aIlqRQMrjAssccgqxmkQeavagNCxk...      hourly  \n",
       "4  lZ3zOHrJHwMUTptP6aIlqRQMrjAssccgqxmkQeavagNCxk...      hourly  \n",
       "5  lZ3zOHrJHwMUTptP6aIlqRQMrjAssccgqxmkQeavagNCxk...      hourly  \n",
       "6  lZ3zOHrJHwMUTptP6aIlqRQMrjAssccgqxmkQeavagNCxk...      hourly  \n",
       "7  lZ3zOHrJHwMUTptP6aIlqRQMrjAssccgqxmkQeavagNCxk...      hourly  \n",
       "8  lZ3zOHrJHwMUTptP6aIlqRQMrjAssccgqxmkQeavagNCxk...      hourly  \n",
       "9  lZ3zOHrJHwMUTptP6aIlqRQMrjAssccgqxmkQeavagNCxk...      hourly  "
      ]
     },
     "execution_count": 19,
     "metadata": {},
     "output_type": "execute_result"
    }
   ],
   "source": [
    "dask_data_hrv_skv = pd.read_sql_query('SELECT * FROM hrv_hr_skv_500 LIMIT 10;', cnx)\n",
    "dask_data_hrv_skv"
   ]
  },
  {
   "cell_type": "code",
   "execution_count": 20,
   "metadata": {},
   "outputs": [
    {
     "name": "stdout",
     "output_type": "stream",
     "text": [
      "CPU times: user 69.5 ms, sys: 9.62 ms, total: 79.2 ms\n",
      "Wall time: 608 ms\n"
     ]
    },
    {
     "data": {
      "text/html": [
       "<div><strong>Dask DataFrame Structure:</strong></div>\n",
       "<div>\n",
       "<style scoped>\n",
       "    .dataframe tbody tr th:only-of-type {\n",
       "        vertical-align: middle;\n",
       "    }\n",
       "\n",
       "    .dataframe tbody tr th {\n",
       "        vertical-align: top;\n",
       "    }\n",
       "\n",
       "    .dataframe thead th {\n",
       "        text-align: right;\n",
       "    }\n",
       "</style>\n",
       "<table border=\"1\" class=\"dataframe\">\n",
       "  <thead>\n",
       "    <tr style=\"text-align: right;\">\n",
       "      <th></th>\n",
       "      <th>per20</th>\n",
       "      <th>per40</th>\n",
       "      <th>per60</th>\n",
       "      <th>per80</th>\n",
       "      <th>variance</th>\n",
       "      <th>skewness</th>\n",
       "      <th>kurtosis</th>\n",
       "      <th>pid</th>\n",
       "      <th>granularity</th>\n",
       "    </tr>\n",
       "    <tr>\n",
       "      <th>npartitions=8</th>\n",
       "      <th></th>\n",
       "      <th></th>\n",
       "      <th></th>\n",
       "      <th></th>\n",
       "      <th></th>\n",
       "      <th></th>\n",
       "      <th></th>\n",
       "      <th></th>\n",
       "      <th></th>\n",
       "    </tr>\n",
       "  </thead>\n",
       "  <tbody>\n",
       "    <tr>\n",
       "      <th>2019-12-31 00:00:00</th>\n",
       "      <td>float64</td>\n",
       "      <td>float64</td>\n",
       "      <td>float64</td>\n",
       "      <td>float64</td>\n",
       "      <td>float64</td>\n",
       "      <td>object</td>\n",
       "      <td>object</td>\n",
       "      <td>object</td>\n",
       "      <td>object</td>\n",
       "    </tr>\n",
       "    <tr>\n",
       "      <th>2020-02-02 21:07:30</th>\n",
       "      <td>...</td>\n",
       "      <td>...</td>\n",
       "      <td>...</td>\n",
       "      <td>...</td>\n",
       "      <td>...</td>\n",
       "      <td>...</td>\n",
       "      <td>...</td>\n",
       "      <td>...</td>\n",
       "      <td>...</td>\n",
       "    </tr>\n",
       "    <tr>\n",
       "      <th>...</th>\n",
       "      <td>...</td>\n",
       "      <td>...</td>\n",
       "      <td>...</td>\n",
       "      <td>...</td>\n",
       "      <td>...</td>\n",
       "      <td>...</td>\n",
       "      <td>...</td>\n",
       "      <td>...</td>\n",
       "      <td>...</td>\n",
       "    </tr>\n",
       "    <tr>\n",
       "      <th>2020-08-24 03:52:30</th>\n",
       "      <td>...</td>\n",
       "      <td>...</td>\n",
       "      <td>...</td>\n",
       "      <td>...</td>\n",
       "      <td>...</td>\n",
       "      <td>...</td>\n",
       "      <td>...</td>\n",
       "      <td>...</td>\n",
       "      <td>...</td>\n",
       "    </tr>\n",
       "    <tr>\n",
       "      <th>2020-09-27 01:00:00</th>\n",
       "      <td>...</td>\n",
       "      <td>...</td>\n",
       "      <td>...</td>\n",
       "      <td>...</td>\n",
       "      <td>...</td>\n",
       "      <td>...</td>\n",
       "      <td>...</td>\n",
       "      <td>...</td>\n",
       "      <td>...</td>\n",
       "    </tr>\n",
       "  </tbody>\n",
       "</table>\n",
       "</div>\n",
       "<div>Dask Name: from-delayed, 16 tasks</div>"
      ],
      "text/plain": [
       "Dask DataFrame Structure:\n",
       "                       per20    per40    per60    per80 variance skewness kurtosis     pid granularity\n",
       "npartitions=8                                                                                         \n",
       "2019-12-31 00:00:00  float64  float64  float64  float64  float64   object   object  object      object\n",
       "2020-02-02 21:07:30      ...      ...      ...      ...      ...      ...      ...     ...         ...\n",
       "...                      ...      ...      ...      ...      ...      ...      ...     ...         ...\n",
       "2020-08-24 03:52:30      ...      ...      ...      ...      ...      ...      ...     ...         ...\n",
       "2020-09-27 01:00:00      ...      ...      ...      ...      ...      ...      ...     ...         ...\n",
       "Dask Name: from-delayed, 16 tasks"
      ]
     },
     "execution_count": 20,
     "metadata": {},
     "output_type": "execute_result"
    }
   ],
   "source": [
    "%%time \n",
    "\n",
    "import dask.dataframe as dd\n",
    "\n",
    "df = dd.read_sql_table('hrv_hr_skv_500', \n",
    "                      postgres_str, \n",
    "                      npartitions=8, \n",
    "                      index_col='time')  \n",
    "df # by default it is a delayed"
   ]
  },
  {
   "cell_type": "code",
   "execution_count": 21,
   "metadata": {},
   "outputs": [
    {
     "name": "stdout",
     "output_type": "stream",
     "text": [
      "CPU times: user 927 ms, sys: 358 ms, total: 1.29 s\n",
      "Wall time: 4.39 s\n"
     ]
    },
    {
     "data": {
      "text/html": [
       "<div>\n",
       "<style scoped>\n",
       "    .dataframe tbody tr th:only-of-type {\n",
       "        vertical-align: middle;\n",
       "    }\n",
       "\n",
       "    .dataframe tbody tr th {\n",
       "        vertical-align: top;\n",
       "    }\n",
       "\n",
       "    .dataframe thead th {\n",
       "        text-align: right;\n",
       "    }\n",
       "</style>\n",
       "<table border=\"1\" class=\"dataframe\">\n",
       "  <thead>\n",
       "    <tr style=\"text-align: right;\">\n",
       "      <th></th>\n",
       "      <th>per20</th>\n",
       "      <th>per40</th>\n",
       "      <th>per60</th>\n",
       "      <th>per80</th>\n",
       "      <th>variance</th>\n",
       "      <th>skewness</th>\n",
       "      <th>kurtosis</th>\n",
       "      <th>pid</th>\n",
       "      <th>granularity</th>\n",
       "    </tr>\n",
       "    <tr>\n",
       "      <th>time</th>\n",
       "      <th></th>\n",
       "      <th></th>\n",
       "      <th></th>\n",
       "      <th></th>\n",
       "      <th></th>\n",
       "      <th></th>\n",
       "      <th></th>\n",
       "      <th></th>\n",
       "      <th></th>\n",
       "    </tr>\n",
       "  </thead>\n",
       "  <tbody>\n",
       "    <tr>\n",
       "      <th>2020-01-02 12:00:00</th>\n",
       "      <td>34.0</td>\n",
       "      <td>34.0</td>\n",
       "      <td>34.0</td>\n",
       "      <td>34.0</td>\n",
       "      <td>0.000000</td>\n",
       "      <td>NaN</td>\n",
       "      <td>NaN</td>\n",
       "      <td>mLE7W4dw1WqhAaAPrp5b6aSNttQ2gj4bz9aeJw_BL0Fuif...</td>\n",
       "      <td>hourly</td>\n",
       "    </tr>\n",
       "    <tr>\n",
       "      <th>2020-01-02 13:00:00</th>\n",
       "      <td>34.0</td>\n",
       "      <td>34.0</td>\n",
       "      <td>34.0</td>\n",
       "      <td>34.0</td>\n",
       "      <td>0.000000</td>\n",
       "      <td>NaN</td>\n",
       "      <td>NaN</td>\n",
       "      <td>mLE7W4dw1WqhAaAPrp5b6aSNttQ2gj4bz9aeJw_BL0Fuif...</td>\n",
       "      <td>hourly</td>\n",
       "    </tr>\n",
       "    <tr>\n",
       "      <th>2020-02-02 06:00:00</th>\n",
       "      <td>34.0</td>\n",
       "      <td>34.0</td>\n",
       "      <td>34.0</td>\n",
       "      <td>34.0</td>\n",
       "      <td>NaN</td>\n",
       "      <td>NaN</td>\n",
       "      <td>NaN</td>\n",
       "      <td>65AB-VLz6t4ZX2V4P5oHkh2qorL7cR9HhWVYUN0LEa0YZM...</td>\n",
       "      <td>hourly</td>\n",
       "    </tr>\n",
       "    <tr>\n",
       "      <th>2020-01-02 14:00:00</th>\n",
       "      <td>35.0</td>\n",
       "      <td>35.0</td>\n",
       "      <td>36.0</td>\n",
       "      <td>36.0</td>\n",
       "      <td>0.500000</td>\n",
       "      <td>0</td>\n",
       "      <td>-0.0909091</td>\n",
       "      <td>BjTPWEt8ipbAxQXSh3PwvoxthXRVaBomWx5GpKqEmWHzfM...</td>\n",
       "      <td>hourly</td>\n",
       "    </tr>\n",
       "    <tr>\n",
       "      <th>2020-01-06 13:00:00</th>\n",
       "      <td>35.0</td>\n",
       "      <td>35.0</td>\n",
       "      <td>36.0</td>\n",
       "      <td>37.0</td>\n",
       "      <td>1.809524</td>\n",
       "      <td>0.271677</td>\n",
       "      <td>2.17943</td>\n",
       "      <td>BjTPWEt8ipbAxQXSh3PwvoxthXRVaBomWx5GpKqEmWHzfM...</td>\n",
       "      <td>hourly</td>\n",
       "    </tr>\n",
       "    <tr>\n",
       "      <th>...</th>\n",
       "      <td>...</td>\n",
       "      <td>...</td>\n",
       "      <td>...</td>\n",
       "      <td>...</td>\n",
       "      <td>...</td>\n",
       "      <td>...</td>\n",
       "      <td>...</td>\n",
       "      <td>...</td>\n",
       "      <td>...</td>\n",
       "    </tr>\n",
       "    <tr>\n",
       "      <th>2020-09-10 16:00:00</th>\n",
       "      <td>105.0</td>\n",
       "      <td>106.0</td>\n",
       "      <td>106.0</td>\n",
       "      <td>108.0</td>\n",
       "      <td>2.333333</td>\n",
       "      <td>0.381802</td>\n",
       "      <td>1.73964</td>\n",
       "      <td>Z_8F59UoVNgWATEuJQrJG2u_QQCrYjPWg4E9bUoTveyZKS...</td>\n",
       "      <td>hourly</td>\n",
       "    </tr>\n",
       "    <tr>\n",
       "      <th>2020-09-05 21:00:00</th>\n",
       "      <td>105.0</td>\n",
       "      <td>106.0</td>\n",
       "      <td>107.0</td>\n",
       "      <td>107.0</td>\n",
       "      <td>1.600000</td>\n",
       "      <td>-0.649519</td>\n",
       "      <td>1.96721</td>\n",
       "      <td>uWMADUpjb7SaUo_9gy2FYsv6qN1hdSRdC27YPM_ecy4-KP...</td>\n",
       "      <td>hourly</td>\n",
       "    </tr>\n",
       "    <tr>\n",
       "      <th>2020-09-05 00:00:00</th>\n",
       "      <td>105.0</td>\n",
       "      <td>106.0</td>\n",
       "      <td>107.0</td>\n",
       "      <td>111.0</td>\n",
       "      <td>12.666667</td>\n",
       "      <td>0.561588</td>\n",
       "      <td>1.75411</td>\n",
       "      <td>FGdRd4cQPVsXpv8N63ENL3KI0zriLdswiM9IFb5OaT2m8u...</td>\n",
       "      <td>hourly</td>\n",
       "    </tr>\n",
       "    <tr>\n",
       "      <th>2020-08-25 18:00:00</th>\n",
       "      <td>105.0</td>\n",
       "      <td>107.0</td>\n",
       "      <td>107.0</td>\n",
       "      <td>108.0</td>\n",
       "      <td>1.583333</td>\n",
       "      <td>-0.652024</td>\n",
       "      <td>2.41853</td>\n",
       "      <td>IGUyziEGL1lLmbaQqgqU7dFhXOsgmsZkI7D1rgXGJvtuAp...</td>\n",
       "      <td>hourly</td>\n",
       "    </tr>\n",
       "    <tr>\n",
       "      <th>2020-09-06 11:00:00</th>\n",
       "      <td>106.0</td>\n",
       "      <td>106.0</td>\n",
       "      <td>106.0</td>\n",
       "      <td>106.0</td>\n",
       "      <td>0.000000</td>\n",
       "      <td>NaN</td>\n",
       "      <td>NaN</td>\n",
       "      <td>2Xo0b2Mw32tYQswCH4uffHZtHVQmYvFHXnl0zkFmo8U4Rh...</td>\n",
       "      <td>hourly</td>\n",
       "    </tr>\n",
       "  </tbody>\n",
       "</table>\n",
       "<p>833853 rows × 9 columns</p>\n",
       "</div>"
      ],
      "text/plain": [
       "                     per20  per40  per60  per80   variance  skewness  \\\n",
       "time                                                                   \n",
       "2020-01-02 12:00:00   34.0   34.0   34.0   34.0   0.000000       NaN   \n",
       "2020-01-02 13:00:00   34.0   34.0   34.0   34.0   0.000000       NaN   \n",
       "2020-02-02 06:00:00   34.0   34.0   34.0   34.0        NaN       NaN   \n",
       "2020-01-02 14:00:00   35.0   35.0   36.0   36.0   0.500000         0   \n",
       "2020-01-06 13:00:00   35.0   35.0   36.0   37.0   1.809524  0.271677   \n",
       "...                    ...    ...    ...    ...        ...       ...   \n",
       "2020-09-10 16:00:00  105.0  106.0  106.0  108.0   2.333333  0.381802   \n",
       "2020-09-05 21:00:00  105.0  106.0  107.0  107.0   1.600000 -0.649519   \n",
       "2020-09-05 00:00:00  105.0  106.0  107.0  111.0  12.666667  0.561588   \n",
       "2020-08-25 18:00:00  105.0  107.0  107.0  108.0   1.583333 -0.652024   \n",
       "2020-09-06 11:00:00  106.0  106.0  106.0  106.0   0.000000       NaN   \n",
       "\n",
       "                      kurtosis  \\\n",
       "time                             \n",
       "2020-01-02 12:00:00        NaN   \n",
       "2020-01-02 13:00:00        NaN   \n",
       "2020-02-02 06:00:00        NaN   \n",
       "2020-01-02 14:00:00 -0.0909091   \n",
       "2020-01-06 13:00:00    2.17943   \n",
       "...                        ...   \n",
       "2020-09-10 16:00:00    1.73964   \n",
       "2020-09-05 21:00:00    1.96721   \n",
       "2020-09-05 00:00:00    1.75411   \n",
       "2020-08-25 18:00:00    2.41853   \n",
       "2020-09-06 11:00:00        NaN   \n",
       "\n",
       "                                                                   pid  \\\n",
       "time                                                                     \n",
       "2020-01-02 12:00:00  mLE7W4dw1WqhAaAPrp5b6aSNttQ2gj4bz9aeJw_BL0Fuif...   \n",
       "2020-01-02 13:00:00  mLE7W4dw1WqhAaAPrp5b6aSNttQ2gj4bz9aeJw_BL0Fuif...   \n",
       "2020-02-02 06:00:00  65AB-VLz6t4ZX2V4P5oHkh2qorL7cR9HhWVYUN0LEa0YZM...   \n",
       "2020-01-02 14:00:00  BjTPWEt8ipbAxQXSh3PwvoxthXRVaBomWx5GpKqEmWHzfM...   \n",
       "2020-01-06 13:00:00  BjTPWEt8ipbAxQXSh3PwvoxthXRVaBomWx5GpKqEmWHzfM...   \n",
       "...                                                                ...   \n",
       "2020-09-10 16:00:00  Z_8F59UoVNgWATEuJQrJG2u_QQCrYjPWg4E9bUoTveyZKS...   \n",
       "2020-09-05 21:00:00  uWMADUpjb7SaUo_9gy2FYsv6qN1hdSRdC27YPM_ecy4-KP...   \n",
       "2020-09-05 00:00:00  FGdRd4cQPVsXpv8N63ENL3KI0zriLdswiM9IFb5OaT2m8u...   \n",
       "2020-08-25 18:00:00  IGUyziEGL1lLmbaQqgqU7dFhXOsgmsZkI7D1rgXGJvtuAp...   \n",
       "2020-09-06 11:00:00  2Xo0b2Mw32tYQswCH4uffHZtHVQmYvFHXnl0zkFmo8U4Rh...   \n",
       "\n",
       "                    granularity  \n",
       "time                             \n",
       "2020-01-02 12:00:00      hourly  \n",
       "2020-01-02 13:00:00      hourly  \n",
       "2020-02-02 06:00:00      hourly  \n",
       "2020-01-02 14:00:00      hourly  \n",
       "2020-01-06 13:00:00      hourly  \n",
       "...                         ...  \n",
       "2020-09-10 16:00:00      hourly  \n",
       "2020-09-05 21:00:00      hourly  \n",
       "2020-09-05 00:00:00      hourly  \n",
       "2020-08-25 18:00:00      hourly  \n",
       "2020-09-06 11:00:00      hourly  \n",
       "\n",
       "[833853 rows x 9 columns]"
      ]
     },
     "execution_count": 21,
     "metadata": {},
     "output_type": "execute_result"
    }
   ],
   "source": [
    "%%time\n",
    "df.compute() # 8cores TRUE"
   ]
  },
  {
   "cell_type": "markdown",
   "metadata": {},
   "source": [
    "<header>\n",
    "    <h1>Section #5/6: Help </h1>\n",
    "</header>"
   ]
  },
  {
   "cell_type": "markdown",
   "metadata": {},
   "source": [
    "<header>\n",
    "    <h1>Ask for Nautilus Account / Support on RocketChat</h1>\n",
    "</header>\n",
    "\n",
    "https://rocket.nautilus.optiputer.net/home"
   ]
  },
  {
   "cell_type": "markdown",
   "metadata": {},
   "source": [
    "<header>\n",
    "    <h1>Section #6/6: Extras</h1>\n",
    "</header>"
   ]
  },
  {
   "cell_type": "markdown",
   "metadata": {},
   "source": [
    "<header>\n",
    "    <h1>Extras 1: Pull Data using URL </h1>\n",
    "</header>"
   ]
  },
  {
   "cell_type": "code",
   "execution_count": 22,
   "metadata": {},
   "outputs": [],
   "source": [
    "url_filename='https://raw.githubusercontent.com/fivethirtyeight/data/master/us-weather-history/KCLT.csv'"
   ]
  },
  {
   "cell_type": "code",
   "execution_count": 23,
   "metadata": {},
   "outputs": [],
   "source": [
    "##https://nextcloud.nautilus.optiputer.net/s/WTFwMENM8sWm2dy/download\n",
    "\n",
    "#url_filename= 'https://nextcloud.nautilus.optiputer.net/s/WTFwMENM8sWm2dy/download'"
   ]
  },
  {
   "cell_type": "code",
   "execution_count": 24,
   "metadata": {},
   "outputs": [],
   "source": [
    "''' Dask reading from URL CSV File '''\n",
    "bigdf  = dask_cluster_dd.read_csv(url_filename).compute()"
   ]
  },
  {
   "cell_type": "code",
   "execution_count": 25,
   "metadata": {},
   "outputs": [
    {
     "data": {
      "text/plain": [
       "(365, 13)"
      ]
     },
     "execution_count": 25,
     "metadata": {},
     "output_type": "execute_result"
    }
   ],
   "source": [
    "bigdf.shape"
   ]
  },
  {
   "cell_type": "code",
   "execution_count": 26,
   "metadata": {},
   "outputs": [
    {
     "data": {
      "text/plain": [
       "record_max_temp_year\n",
       "1879    1.230000\n",
       "1881    2.460000\n",
       "1887    1.637500\n",
       "1888    1.950000\n",
       "1889    1.462500\n",
       "          ...   \n",
       "2011    2.454286\n",
       "2012    3.215000\n",
       "2013    2.190000\n",
       "2014    1.820000\n",
       "2015    1.894000\n",
       "Name: record_precipitation, Length: 102, dtype: float64"
      ]
     },
     "execution_count": 26,
     "metadata": {},
     "output_type": "execute_result"
    }
   ],
   "source": [
    "bigdf.groupby('record_max_temp_year').record_precipitation.mean()"
   ]
  },
  {
   "cell_type": "markdown",
   "metadata": {},
   "source": [
    "<header>\n",
    "    <h1>Shutdown the DASK Cluster</h1>\n",
    "</header>"
   ]
  },
  {
   "cell_type": "code",
   "execution_count": 27,
   "metadata": {},
   "outputs": [],
   "source": [
    "client.shutdown()"
   ]
  },
  {
   "cell_type": "markdown",
   "metadata": {},
   "source": [
    "<header>\n",
    "    <h1>The End </h1>\n",
    "</header>"
   ]
  },
  {
   "cell_type": "code",
   "execution_count": null,
   "metadata": {},
   "outputs": [],
   "source": []
  }
 ],
 "metadata": {
  "kernelspec": {
   "display_name": "Python 3",
   "language": "python",
   "name": "python3"
  },
  "language_info": {
   "codemirror_mode": {
    "name": "ipython",
    "version": 3
   },
   "file_extension": ".py",
   "mimetype": "text/x-python",
   "name": "python",
   "nbconvert_exporter": "python",
   "pygments_lexer": "ipython3",
   "version": "3.8.3"
  }
 },
 "nbformat": 4,
 "nbformat_minor": 4
}
